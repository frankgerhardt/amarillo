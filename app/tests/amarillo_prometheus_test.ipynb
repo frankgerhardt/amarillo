{
 "cells": [
  {
   "cell_type": "code",
   "execution_count": 81,
   "id": "7e0585a1-166f-4055-832c-ade2f9cc6d18",
   "metadata": {},
   "outputs": [],
   "source": [
    "import requests\n",
    "import re"
   ]
  },
  {
   "cell_type": "code",
   "execution_count": 82,
   "id": "c6c58924-46f8-4f2b-acbf-4fb7ae4eef8a",
   "metadata": {},
   "outputs": [
    {
     "name": "stdout",
     "output_type": "stream",
     "text": [
      "Succes:: Response code 200\n"
     ]
    }
   ],
   "source": [
    "response =requests.get(\"http://127.0.0.1:8000/metrics\", auth=(\"user1\", \"pw1\"))\n",
    "assert response.status_code == 200, \"Invalid status code\"\n",
    "print(\"Succes: Response code 200\")"
   ]
  },
  {
   "cell_type": "code",
   "execution_count": 83,
   "id": "eff298df-d66b-4b6a-aa91-99e7af1fce8d",
   "metadata": {},
   "outputs": [
    {
     "name": "stdout",
     "output_type": "stream",
     "text": [
      "Success: First call.\n"
     ]
    }
   ],
   "source": [
    "response_text = response.text\n",
    "regex_pattern = r'total_requests{endpoint=\"/amarillo-metrics\"} 1.0'\n",
    "assert re.search(regex_pattern, response_text) is not None, \"This is not a fresh run of the site or there is no request counter\"\n",
    "print(\"Success: First call.\")"
   ]
  },
  {
   "cell_type": "code",
   "execution_count": 84,
   "id": "9c9be989-0282-4b3f-9ca3-7ca145722e65",
   "metadata": {},
   "outputs": [
    {
     "name": "stdout",
     "output_type": "stream",
     "text": [
      "Success: Response code 200\n"
     ]
    }
   ],
   "source": [
    "#second call after first run\n",
    "response =requests.get(\"http://127.0.0.1:8000/metrics\", auth=(\"user1\", \"pw1\"))\n",
    "assert response.status_code == 200, \"Invalid response code\"\n",
    "print(\"Success: Response code 200\")"
   ]
  },
  {
   "cell_type": "code",
   "execution_count": 85,
   "id": "e7e0b4c9-d235-4565-8163-e51c15692cc7",
   "metadata": {},
   "outputs": [
    {
     "name": "stdout",
     "output_type": "stream",
     "text": [
      "Success: Second call.\n"
     ]
    }
   ],
   "source": [
    "response_text = response.text\n",
    "\n",
    "regex_pattern = r'total_requests{endpoint=\"/amarillo-metrics\"} 2.0'\n",
    "assert re.search(regex_pattern, response_text) is not None, \"There is no total request counter or not the 2nd call for /amarillo-metrics\"\n",
    "print(\"Success: Second call.\")"
   ]
  },
  {
   "cell_type": "code",
   "execution_count": 86,
   "id": "007ce19a-62c3-452f-aecb-d8eef8ea1b58",
   "metadata": {},
   "outputs": [
    {
     "name": "stdout",
     "output_type": "stream",
     "text": [
      "Success: region endpoint has 0 request\n"
     ]
    }
   ],
   "source": [
    "#check if there is no request for region (should be 0)\n",
    "response = requests.get(\"http://127.0.0.1:8000/metrics\", auth=(\"user1\", \"pw1\"))\n",
    "assert response.status_code == 200, \"Invalid status code\"\n",
    "\n",
    "response_text = response.text\n",
    "regex_pattern = r'total_requests{endpoint=\"/region\"} 0.0'\n",
    "assert re.search(regex_pattern, response_text) is not None, \"There is no total request counter or not the value is not 0 for /region\"\n",
    "print(\"Success: region endpoint has 0 request\")"
   ]
  },
  {
   "cell_type": "code",
   "execution_count": 87,
   "id": "fbe1a747-44e1-4e04-bb7c-cc37a462a709",
   "metadata": {},
   "outputs": [
    {
     "name": "stdout",
     "output_type": "stream",
     "text": [
      "Success: region endpoint has 0 request\n"
     ]
    }
   ],
   "source": [
    "#call region endpoint, checks if it is the first request\n",
    "_ = requests.get(\"http://127.0.0.1:8000/region/\")\n",
    "response =requests.get(\"http://127.0.0.1:8000/metrics\", auth=(\"user1\", \"pw1\"))\n",
    "assert response.status_code == 200, \"Invalid status code\"\n",
    "\n",
    "response_text = response.text\n",
    "regex_pattern = r'total_requests{endpoint=\"/region\"} 1.0'\n",
    "assert re.search(regex_pattern, response_text) is not None, \"There is no total request counter or not the 1st call for /region\"\n",
    "print(\"Success: region endpoint has 0 request\")"
   ]
  },
  {
   "cell_type": "code",
   "execution_count": 88,
   "id": "6e628877-941a-43e2-8699-c1bc276ea158",
   "metadata": {},
   "outputs": [
    {
     "name": "stdout",
     "output_type": "stream",
     "text": [
      "Custom metric visible\n"
     ]
    }
   ],
   "source": [
    "regex_pattern = r'amarillo_trips_number_total [0-9]{1,}\\.0'\n",
    "assert re.search(regex_pattern, response_text) is not None, \"No amarillo_trips_number_total metric\"\n",
    "print(\"Custom metric visible\")"
   ]
  },
  {
   "cell_type": "code",
   "execution_count": null,
   "id": "3a99c0fd-b3a0-4493-935c-7ce2018db7c4",
   "metadata": {},
   "outputs": [],
   "source": []
  },
  {
   "cell_type": "code",
   "execution_count": null,
   "id": "0836c4fe-4463-47bd-8a69-e7e8dec9915f",
   "metadata": {},
   "outputs": [],
   "source": []
  }
 ],
 "metadata": {
  "kernelspec": {
   "display_name": "Python 3 (ipykernel)",
   "language": "python",
   "name": "python3"
  },
  "language_info": {
   "codemirror_mode": {
    "name": "ipython",
    "version": 3
   },
   "file_extension": ".py",
   "mimetype": "text/x-python",
   "name": "python",
   "nbconvert_exporter": "python",
   "pygments_lexer": "ipython3",
   "version": "3.9.2"
  }
 },
 "nbformat": 4,
 "nbformat_minor": 5
}
