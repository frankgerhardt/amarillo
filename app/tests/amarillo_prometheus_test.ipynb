{
 "cells": [
  {
   "cell_type": "code",
   "execution_count": 97,
   "id": "7e0585a1-166f-4055-832c-ade2f9cc6d18",
   "metadata": {},
   "outputs": [],
   "source": [
    "import requests\n",
    "from requests import Response\n",
    "import re\n",
    "import os\n",
    "\n",
    "METRICS_USER = os.environ.get('METRICS_USER') or 'user1'\n",
    "METRICS_PASSWORD = os.environ.get('METRICS_PASSWORD') or 'pw1'\n",
    "\n",
    "API_URL = \"http://127.0.0.1:8000\"\n",
    "auth = (METRICS_USER, METRICS_PASSWORD)"
   ]
  },
  {
   "cell_type": "code",
   "execution_count": 98,
   "metadata": {},
   "outputs": [],
   "source": [
    "def get_request_counter(response : Response, endpoint : str):\n",
    "    regex_pattern = r'(?<=http_requests_total{handler=\"' + endpoint + r'\",method=\"GET\",status=\"2xx\"} )\\d+(?=\\.0)'\n",
    "    match = re.search(regex_pattern, response.text)\n",
    "    if(match is None): return 0\n",
    "    return int(match.group())\n"
   ]
  },
  {
   "cell_type": "code",
   "execution_count": 99,
   "id": "c6c58924-46f8-4f2b-acbf-4fb7ae4eef8a",
   "metadata": {},
   "outputs": [
    {
     "name": "stdout",
     "output_type": "stream",
     "text": [
      "Success: Response code 200\n"
     ]
    }
   ],
   "source": [
    "response =requests.get(f\"{API_URL}/metrics/\", auth=auth)\n",
    "assert response.status_code == 200, \"Invalid status code\"\n",
    "print(\"Success: Response code 200\")"
   ]
  },
  {
   "cell_type": "code",
   "execution_count": 100,
   "id": "eff298df-d66b-4b6a-aa91-99e7af1fce8d",
   "metadata": {},
   "outputs": [
    {
     "name": "stdout",
     "output_type": "stream",
     "text": [
      "First call: 0 calls to /metrics\n"
     ]
    }
   ],
   "source": [
    "initial_metrics_requests = get_request_counter(response, \"/metrics/\")\n",
    "print(f\"First call: {initial_metrics_requests} calls to /metrics\")"
   ]
  },
  {
   "cell_type": "code",
   "execution_count": 101,
   "id": "9c9be989-0282-4b3f-9ca3-7ca145722e65",
   "metadata": {},
   "outputs": [
    {
     "name": "stdout",
     "output_type": "stream",
     "text": [
      "Success: Response code 200\n"
     ]
    }
   ],
   "source": [
    "#second call after first run\n",
    "response =requests.get(f\"{API_URL}/metrics/\", auth=auth)\n",
    "assert response.status_code == 200, \"Invalid response code\"\n",
    "print(\"Success: Response code 200\")"
   ]
  },
  {
   "cell_type": "code",
   "execution_count": 102,
   "id": "e7e0b4c9-d235-4565-8163-e51c15692cc7",
   "metadata": {},
   "outputs": [
    {
     "name": "stdout",
     "output_type": "stream",
     "text": [
      "Second call: 2 calls to /metrics\n"
     ]
    }
   ],
   "source": [
    "metrics_requests = get_request_counter(response, \"/metrics/\")\n",
    "assert metrics_requests > initial_metrics_requests\n",
    "print(f\"Second call: {metrics_requests} calls to /metrics\")"
   ]
  },
  {
   "cell_type": "code",
   "execution_count": 103,
   "id": "007ce19a-62c3-452f-aecb-d8eef8ea1b58",
   "metadata": {},
   "outputs": [
    {
     "name": "stdout",
     "output_type": "stream",
     "text": [
      "Success: region endpoint has 0 requests\n"
     ]
    }
   ],
   "source": [
    "initial_region_requests = get_request_counter(response, \"/region/\")\n",
    "print(f\"Success: region endpoint has {initial_region_requests} requests\")"
   ]
  },
  {
   "cell_type": "code",
   "execution_count": 104,
   "id": "fbe1a747-44e1-4e04-bb7c-cc37a462a709",
   "metadata": {},
   "outputs": [
    {
     "name": "stdout",
     "output_type": "stream",
     "text": [
      "Success: region endpoint has 2 requests\n"
     ]
    }
   ],
   "source": [
    "#call region endpoint\n",
    "_ = requests.get(f\"{API_URL}/region/\")\n",
    "response = requests.get(f\"{API_URL}/metrics/\", auth=auth)\n",
    "assert response.status_code == 200, \"Invalid status code\"\n",
    "\n",
    "region_requests = get_request_counter(response, \"/region/\")\n",
    "assert region_requests > initial_region_requests, \"/region requests counter did not increment\"\n",
    "print(f\"Success: region endpoint has {region_requests} requests\")"
   ]
  },
  {
   "cell_type": "code",
   "execution_count": 106,
   "id": "6e628877-941a-43e2-8699-c1bc276ea158",
   "metadata": {},
   "outputs": [
    {
     "name": "stdout",
     "output_type": "stream",
     "text": [
      "Custom metric visible: 19 trips\n"
     ]
    }
   ],
   "source": [
    "regex_pattern = r'(?<=amarillo_trips_number_total )[0-9]{1,}(?=\\.0)'\n",
    "match = re.search(regex_pattern, response.text)\n",
    "assert match is not None, \"No amarillo_trips_number_total metric\"\n",
    "print(f\"Custom metric visible: {match.group()} trips\")"
   ]
  }
 ],
 "metadata": {
  "kernelspec": {
   "display_name": "Python 3 (ipykernel)",
   "language": "python",
   "name": "python3"
  },
  "language_info": {
   "codemirror_mode": {
    "name": "ipython",
    "version": 3
   },
   "file_extension": ".py",
   "mimetype": "text/x-python",
   "name": "python",
   "nbconvert_exporter": "python",
   "pygments_lexer": "ipython3",
   "version": "3.9.2"
  }
 },
 "nbformat": 4,
 "nbformat_minor": 5
}
